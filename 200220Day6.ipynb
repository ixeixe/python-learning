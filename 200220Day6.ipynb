{
 "cells": [
  {
   "cell_type": "markdown",
   "metadata": {},
   "source": [
    "#### 使用列表的一部分\n",
    "只处理部分元素，就是“切片”"
   ]
  },
  {
   "cell_type": "markdown",
   "metadata": {},
   "source": [
    "使用第一个元素和最后一个元素的索引，到达第二个索引之前的元素后停止"
   ]
  },
  {
   "cell_type": "markdown",
   "metadata": {},
   "source": [
    "就是：要输出前三个元素，指定索引0和3，将返回位置0、1、2的元素"
   ]
  },
  {
   "cell_type": "markdown",
   "metadata": {},
   "source": [
    "#### 切片：列表名[索引:索引]\n",
    "输出的也是个列表"
   ]
  },
  {
   "cell_type": "code",
   "execution_count": 25,
   "metadata": {},
   "outputs": [
    {
     "name": "stdout",
     "output_type": "stream",
     "text": [
      "[18, 19, 20]\n"
     ]
    }
   ],
   "source": [
    "oushu=list(range(0,21))\n",
    "dao_shu_san=oushu[-3:]\n",
    "print(dao_shu_san)"
   ]
  },
  {
   "cell_type": "code",
   "execution_count": 11,
   "metadata": {},
   "outputs": [
    {
     "name": "stdout",
     "output_type": "stream",
     "text": [
      "['85', 'idol', 'actor', 'host']\n"
     ]
    }
   ],
   "source": [
    "wyb=[\"85\",\"idol\",\"actor\",\"host\"]\n",
    "print(wyb[0:4])"
   ]
  },
  {
   "cell_type": "code",
   "execution_count": 14,
   "metadata": {},
   "outputs": [
    {
     "name": "stdout",
     "output_type": "stream",
     "text": [
      "['85', 'idol', 'actor', 'host']\n",
      "['actor', 'host']\n"
     ]
    }
   ],
   "source": [
    "wyb_2=wyb[2:4]\n",
    "print(wyb)\n",
    "print(wyb_2)"
   ]
  },
  {
   "cell_type": "markdown",
   "metadata": {},
   "source": [
    "#### 列表名[：索引]  列表名[索引：] 列表名[  :  ]\n",
    "前面的位置是空的，就默认从列表开头开始；后面是空的，就默认遍历到末尾；都空就是遍历"
   ]
  },
  {
   "cell_type": "code",
   "execution_count": 18,
   "metadata": {},
   "outputs": [
    {
     "data": {
      "text/plain": [
       "['idol', 'actor', 'host']"
      ]
     },
     "execution_count": 18,
     "metadata": {},
     "output_type": "execute_result"
    }
   ],
   "source": [
    "wyb[-3:]#从倒数第三个开始遍历，输出后三个元素"
   ]
  },
  {
   "cell_type": "markdown",
   "metadata": {},
   "source": [
    "#### 列表名[索引:索引:步长] 加第三个值：步长"
   ]
  },
  {
   "cell_type": "code",
   "execution_count": 20,
   "metadata": {},
   "outputs": [
    {
     "data": {
      "text/plain": [
       "['85', 'actor']"
      ]
     },
     "execution_count": 20,
     "metadata": {},
     "output_type": "execute_result"
    }
   ],
   "source": [
    "wyb[::2]"
   ]
  },
  {
   "cell_type": "markdown",
   "metadata": {},
   "source": [
    "#### for循环中使用切片"
   ]
  },
  {
   "cell_type": "code",
   "execution_count": 25,
   "metadata": {
    "scrolled": true
   },
   "outputs": [
    {
     "name": "stdout",
     "output_type": "stream",
     "text": [
      "85,你是最闪耀的\n",
      "Idol,你是最闪耀的\n",
      "Actor,你是最闪耀的\n"
     ]
    }
   ],
   "source": [
    "for star in wyb[:3]:\n",
    "    print(f\"{star.title()},你是最闪耀的\")"
   ]
  },
  {
   "cell_type": "code",
   "execution_count": null,
   "metadata": {},
   "outputs": [],
   "source": []
  }
 ],
 "metadata": {
  "kernelspec": {
   "display_name": "Python 3",
   "language": "python",
   "name": "python3"
  },
  "language_info": {
   "codemirror_mode": {
    "name": "ipython",
    "version": 3
   },
   "file_extension": ".py",
   "mimetype": "text/x-python",
   "name": "python",
   "nbconvert_exporter": "python",
   "pygments_lexer": "ipython3",
   "version": "3.7.4"
  }
 },
 "nbformat": 4,
 "nbformat_minor": 2
}
