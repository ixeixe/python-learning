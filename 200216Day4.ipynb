{
 "cells": [
  {
   "cell_type": "markdown",
   "metadata": {},
   "source": [
    "#### \"方法\"和\"函数\"不一样 就像\"字符串\"和\"变量\"不一样"
   ]
  },
  {
   "cell_type": "markdown",
   "metadata": {},
   "source": [
    "#### 练习3-7"
   ]
  },
  {
   "cell_type": "code",
   "execution_count": 1,
   "metadata": {},
   "outputs": [
    {
     "name": "stdout",
     "output_type": "stream",
     "text": [
      "I am sorry that there will be only two  customers for this dinner\n"
     ]
    }
   ],
   "source": [
    "customer=[\"丹丹\",\"王天天\",\"王队长\",\"85\",\"wyb\"]\n",
    "print(f\"I am sorry that there will be only two  customers for this dinner\")"
   ]
  },
  {
   "cell_type": "code",
   "execution_count": 2,
   "metadata": {},
   "outputs": [
    {
     "name": "stdout",
     "output_type": "stream",
     "text": [
      "丹丹,很抱歉您被移除邀请名单\n",
      "王天天,很抱歉您被移除邀请名单\n",
      "王队长,您还在邀请名单中\n",
      "85,您还在邀请名单中\n",
      "wyb,您还在邀请名单中\n"
     ]
    }
   ],
   "source": [
    "deleted_person1=customer.pop(0)\n",
    "deleted_person2=customer.pop(0)\n",
    "print(f\"{deleted_person1},很抱歉您被移除邀请名单\")\n",
    "print(f\"{deleted_person2},很抱歉您被移除邀请名单\")\n",
    "print(f\"{customer[0]},您还在邀请名单中\")\n",
    "print(f\"{customer[1]},您还在邀请名单中\")\n",
    "print(f\"{customer[2]},您还在邀请名单中\")\n",
    "\n"
   ]
  },
  {
   "cell_type": "code",
   "execution_count": 4,
   "metadata": {},
   "outputs": [
    {
     "name": "stdout",
     "output_type": "stream",
     "text": [
      "['王队长']\n"
     ]
    }
   ],
   "source": [
    "del customer[2]\n",
    "del customer[1]\n",
    "print(customer)"
   ]
  },
  {
   "cell_type": "markdown",
   "metadata": {},
   "source": [
    "#### 对列表永久排序：方法 .sort()\n",
    "列表名.sort()\n",
    "会按照字母表顺序（且大写＞小写＞中文）永远改变顺序，且无法恢复原来顺序"
   ]
  },
  {
   "cell_type": "markdown",
   "metadata": {},
   "source": [
    " 中文是首字母反过来排序"
   ]
  },
  {
   "cell_type": "code",
   "execution_count": 13,
   "metadata": {},
   "outputs": [
    {
     "name": "stdout",
     "output_type": "stream",
     "text": [
      "['aj', 'bobo', 'c艹', 'rRossi', 'rSossi', 'rsossi', 'wyb']\n"
     ]
    }
   ],
   "source": [
    "name=[\"rRossi\",\"wyb\",\"aj\",\"bobo\",\"c艹\",\"rSossi\",\"rsossi\"]\n",
    "name.sort()\n",
    "print(name)"
   ]
  },
  {
   "cell_type": "code",
   "execution_count": 21,
   "metadata": {},
   "outputs": [
    {
     "name": "stdout",
     "output_type": "stream",
     "text": [
      "['aa', 'abb', 'ac', 'acb', 'acc', '一博', '王一博', '王博', '程潇', '阿博']\n"
     ]
    }
   ],
   "source": [
    "name_2=[\"aa\",\"ac\",\"acc\",\"程潇\",\"王博\",\"abb\",\"acb\",\"王一博\",\"阿博\",\"一博\"]\n",
    "name_2.sort()\n",
    "print(name_2)#首字母相同，往后一个字母比较；再相同再往后一个比较"
   ]
  },
  {
   "cell_type": "markdown",
   "metadata": {},
   "source": [
    "#### 对列表反过来排序：方法 列表名.sort(reverse=True)\n",
    "\n",
    "会按照字母表顺序（且大写＞小写＞中文）永远改变顺序，且无法恢复原来顺序"
   ]
  },
  {
   "cell_type": "code",
   "execution_count": 23,
   "metadata": {},
   "outputs": [
    {
     "name": "stdout",
     "output_type": "stream",
     "text": [
      "['阿博', '程潇', '王博', '王一博', '一博', 'acc', 'acb', 'ac', 'abb', 'aa']\n"
     ]
    }
   ],
   "source": [
    "name_2.sort(reverse=True)\n",
    "print(name_2)"
   ]
  },
  {
   "cell_type": "markdown",
   "metadata": {},
   "source": [
    "#### 对列表临时排序：函数 sorted(列表名)\n",
    "来显示按顺序，但不会修改原顺序"
   ]
  },
  {
   "cell_type": "markdown",
   "metadata": {},
   "source": [
    "sorted(列表名,reverse=True)就是反过来临时排序"
   ]
  },
  {
   "cell_type": "code",
   "execution_count": 28,
   "metadata": {},
   "outputs": [
    {
     "name": "stdout",
     "output_type": "stream",
     "text": [
      "['aa', 'abb', 'ac', 'acb', 'acc', '一博', '王一博', '王博', '程潇', '阿博']\n",
      "['aa', 'ac', 'acc', '程潇', '王博', 'abb', 'acb', '王一博', '阿博', '一博']\n",
      "['阿博', '程潇', '王博', '王一博', '一博', 'acc', 'acb', 'ac', 'abb', 'aa']\n"
     ]
    }
   ],
   "source": [
    "name_2=[\"aa\",\"ac\",\"acc\",\"程潇\",\"王博\",\"abb\",\"acb\",\"王一博\",\"阿博\",\"一博\"]\n",
    "print(sorted(name_2))\n",
    "print(name_2)\n",
    "print(sorted(name_2,reverse=True))#反过来"
   ]
  },
  {
   "cell_type": "markdown",
   "metadata": {},
   "source": [
    "#### 反转列表顺序，不一定按字母顺序：方法 .reverse()\n",
    "永久改变"
   ]
  },
  {
   "cell_type": "markdown",
   "metadata": {},
   "source": [
    "还想反转就再使用一次"
   ]
  },
  {
   "cell_type": "code",
   "execution_count": 29,
   "metadata": {},
   "outputs": [
    {
     "name": "stdout",
     "output_type": "stream",
     "text": [
      "['aa', 'ac', 'acc', '程潇', '王博', 'abb', 'acb', '王一博', '阿博', '一博']\n",
      "['一博', '阿博', '王一博', 'acb', 'abb', '王博', '程潇', 'acc', 'ac', 'aa']\n"
     ]
    }
   ],
   "source": [
    "name_2=[\"aa\",\"ac\",\"acc\",\"程潇\",\"王博\",\"abb\",\"acb\",\"王一博\",\"阿博\",\"一博\"]\n",
    "print(name_2)\n",
    "name_2.reverse()\n",
    "print(name_2)"
   ]
  },
  {
   "cell_type": "markdown",
   "metadata": {},
   "source": [
    "#### 确定列表长度：函数 len(列表名)\n",
    "告诉你有多少个元素"
   ]
  },
  {
   "cell_type": "code",
   "execution_count": 30,
   "metadata": {
    "scrolled": true
   },
   "outputs": [
    {
     "name": "stdout",
     "output_type": "stream",
     "text": [
      "10\n"
     ]
    }
   ],
   "source": [
    "print(len(name_2))"
   ]
  },
  {
   "cell_type": "code",
   "execution_count": 32,
   "metadata": {},
   "outputs": [],
   "source": [
    "name_2.append(name)\n"
   ]
  },
  {
   "cell_type": "code",
   "execution_count": 33,
   "metadata": {},
   "outputs": [
    {
     "data": {
      "text/plain": [
       "11"
      ]
     },
     "execution_count": 33,
     "metadata": {},
     "output_type": "execute_result"
    }
   ],
   "source": [
    "len(name_2)#把里面那个列表看成了一个元素"
   ]
  },
  {
   "cell_type": "code",
   "execution_count": 34,
   "metadata": {},
   "outputs": [
    {
     "data": {
      "text/plain": [
       "['一博',\n",
       " '阿博',\n",
       " '王一博',\n",
       " 'acb',\n",
       " 'abb',\n",
       " '王博',\n",
       " '程潇',\n",
       " 'acc',\n",
       " 'ac',\n",
       " 'aa',\n",
       " ['aj', 'bobo', 'c艹', 'rRossi', 'rSossi', 'rsossi', 'wyb']]"
      ]
     },
     "execution_count": 34,
     "metadata": {},
     "output_type": "execute_result"
    }
   ],
   "source": [
    "name_2"
   ]
  },
  {
   "cell_type": "markdown",
   "metadata": {},
   "source": [
    "#### 练习3-8"
   ]
  },
  {
   "cell_type": "code",
   "execution_count": 36,
   "metadata": {},
   "outputs": [
    {
     "name": "stdout",
     "output_type": "stream",
     "text": [
      "['chui hui', 'xiao chou', 'wu gan', 'wo de shijieshouze', 'long quan']\n",
      "['chui hui', 'long quan', 'wo de shijieshouze', 'wu gan', 'xiao chou']\n",
      "['chui hui', 'xiao chou', 'wu gan', 'wo de shijieshouze', 'long quan']\n",
      "['xiao chou', 'wu gan', 'wo de shijieshouze', 'long quan', 'chui hui']\n",
      "['chui hui', 'xiao chou', 'wu gan', 'wo de shijieshouze', 'long quan']\n"
     ]
    }
   ],
   "source": [
    "dreaming_performance=[\"chui hui\",\"xiao chou\",\"wu gan\",\"wo de shijieshouze\",\"long quan\"]\n",
    "print(dreaming_performance)\n",
    "print(sorted(dreaming_performance))\n",
    "print(dreaming_performance)\n",
    "print(sorted(dreaming_performance,reverse=True))\n",
    "print(dreaming_performance)"
   ]
  },
  {
   "cell_type": "code",
   "execution_count": 37,
   "metadata": {},
   "outputs": [
    {
     "name": "stdout",
     "output_type": "stream",
     "text": [
      "['long quan', 'wo de shijieshouze', 'wu gan', 'xiao chou', 'chui hui']\n",
      "['chui hui', 'xiao chou', 'wu gan', 'wo de shijieshouze', 'long quan']\n"
     ]
    }
   ],
   "source": [
    "dreaming_performance.reverse()\n",
    "print(dreaming_performance)\n",
    "dreaming_performance.reverse()\n",
    "print(dreaming_performance)\n"
   ]
  },
  {
   "cell_type": "code",
   "execution_count": 38,
   "metadata": {},
   "outputs": [
    {
     "name": "stdout",
     "output_type": "stream",
     "text": [
      "['chui hui', 'long quan', 'wo de shijieshouze', 'wu gan', 'xiao chou']\n",
      "['xiao chou', 'wu gan', 'wo de shijieshouze', 'long quan', 'chui hui']\n"
     ]
    }
   ],
   "source": [
    "dreaming_performance.sort()\n",
    "print(dreaming_performance)\n",
    "dreaming_performance.sort(reverse=True)\n",
    "print(dreaming_performance)\n"
   ]
  },
  {
   "cell_type": "markdown",
   "metadata": {},
   "source": [
    "#### 练习3-9"
   ]
  },
  {
   "cell_type": "code",
   "execution_count": 39,
   "metadata": {},
   "outputs": [
    {
     "name": "stdout",
     "output_type": "stream",
     "text": [
      "我想去5个地方\n"
     ]
    }
   ],
   "source": [
    "print(f\"我想去{len(dreaming_performance)}个地方\")"
   ]
  },
  {
   "cell_type": "markdown",
   "metadata": {},
   "source": [
    "#### 练习3-11"
   ]
  },
  {
   "cell_type": "code",
   "execution_count": 41,
   "metadata": {},
   "outputs": [
    {
     "data": {
      "text/plain": [
       "'chui hui'"
      ]
     },
     "execution_count": 41,
     "metadata": {},
     "output_type": "execute_result"
    }
   ],
   "source": [
    "dreaming_performance[4]"
   ]
  },
  {
   "cell_type": "markdown",
   "metadata": {},
   "source": [
    "## 第四章 操作列表"
   ]
  },
  {
   "cell_type": "markdown",
   "metadata": {},
   "source": [
    "#### 遍历整个列表\n",
    "用for循环"
   ]
  },
  {
   "cell_type": "markdown",
   "metadata": {},
   "source": [
    "#### for 变量名 in 列表名\n",
    "来打印元素，从列表中取一个元素，与“变量”相关联，循环关联操作和for循环内容操作"
   ]
  },
  {
   "cell_type": "code",
   "execution_count": 10,
   "metadata": {},
   "outputs": [
    {
     "name": "stdout",
     "output_type": "stream",
     "text": [
      "tencent是傻逼\n",
      "xia是傻逼\n",
      "wenshen是傻逼\n",
      "you ku是傻逼\n"
     ]
    }
   ],
   "source": [
    "sbs=sb\n",
    "for sb in sbs:\n",
    "    print(f\"{sb}是傻逼\")"
   ]
  },
  {
   "cell_type": "code",
   "execution_count": 42,
   "metadata": {},
   "outputs": [
    {
     "name": "stdout",
     "output_type": "stream",
     "text": [
      "xiao chou\n",
      "wu gan\n",
      "wo de shijieshouze\n",
      "long quan\n",
      "chui hui\n"
     ]
    }
   ],
   "source": [
    "for dream in dreaming_performance:\n",
    "    print(dream)"
   ]
  },
  {
   "cell_type": "code",
   "execution_count": 44,
   "metadata": {},
   "outputs": [
    {
     "name": "stdout",
     "output_type": "stream",
     "text": [
      "zyx\n",
      "wyb\n",
      "85\n"
     ]
    }
   ],
   "source": [
    "cats=[\"zyx\",\"wyb\",\"85\"]\n",
    "for cat in cats:#注意单数和双数，帮助你判断代码处理的是单个列表元素还是整个列表\n",
    "    print(cat)\n",
    "    "
   ]
  },
  {
   "cell_type": "code",
   "execution_count": 46,
   "metadata": {},
   "outputs": [
    {
     "name": "stdout",
     "output_type": "stream",
     "text": [
      "zyx，欢迎你来加入我的世界\n",
      "wyb，欢迎你来加入我的世界\n",
      "85，欢迎你来加入我的世界\n"
     ]
    }
   ],
   "source": [
    "for cat in cats:\n",
    "    print(f\"{cat}，欢迎你来加入我的世界\")"
   ]
  },
  {
   "cell_type": "code",
   "execution_count": 20,
   "metadata": {},
   "outputs": [
    {
     "name": "stdout",
     "output_type": "stream",
     "text": [
      "zongshu is my mission\n"
     ]
    }
   ],
   "source": [
    "print(f\"{literature[-1]} is my mission\")"
   ]
  },
  {
   "cell_type": "code",
   "execution_count": 21,
   "metadata": {},
   "outputs": [
    {
     "name": "stdout",
     "output_type": "stream",
     "text": [
      "zongshu2\n"
     ]
    }
   ],
   "source": [
    "literature[-1]=\"zongshu2\"\n",
    "print(literature[-1])"
   ]
  },
  {
   "cell_type": "code",
   "execution_count": 24,
   "metadata": {},
   "outputs": [
    {
     "name": "stdout",
     "output_type": "stream",
     "text": [
      "['radiation', 'aa', 'zongshu', 'zongshu', 'zongshu2']\n"
     ]
    }
   ],
   "source": [
    "literature.insert(2,\"zongshu\")\n",
    "print(literature)"
   ]
  },
  {
   "cell_type": "code",
   "execution_count": 25,
   "metadata": {},
   "outputs": [
    {
     "name": "stdout",
     "output_type": "stream",
     "text": [
      "['radiation', 'aa', 'zongshu', 'zongshu2']\n"
     ]
    }
   ],
   "source": [
    "del literature[2]\n",
    "print(literature)"
   ]
  },
  {
   "cell_type": "code",
   "execution_count": 27,
   "metadata": {},
   "outputs": [
    {
     "name": "stdout",
     "output_type": "stream",
     "text": [
      "['radiation', 'aa', 'zongshu']\n"
     ]
    }
   ],
   "source": [
    "deleted=literature.pop(-1)\n",
    "print(literature)"
   ]
  },
  {
   "cell_type": "code",
   "execution_count": null,
   "metadata": {},
   "outputs": [],
   "source": []
  }
 ],
 "metadata": {
  "kernelspec": {
   "display_name": "Python 3",
   "language": "python",
   "name": "python3"
  },
  "language_info": {
   "codemirror_mode": {
    "name": "ipython",
    "version": 3
   },
   "file_extension": ".py",
   "mimetype": "text/x-python",
   "name": "python",
   "nbconvert_exporter": "python",
   "pygments_lexer": "ipython3",
   "version": "3.7.4"
  }
 },
 "nbformat": 4,
 "nbformat_minor": 2
}
