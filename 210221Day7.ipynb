{
 "cells": [
  {
   "cell_type": "markdown",
   "metadata": {},
   "source": [
    "#### 复制列表\n",
    "创建包含整个列表的切片"
   ]
  },
  {
   "cell_type": "markdown",
   "metadata": {},
   "source": [
    "如果直接新列表=列表名，就相当于把这个列表关联两个名字，若只对任一个列表进行修改，另一边也会修改\n"
   ]
  },
  {
   "cell_type": "markdown",
   "metadata": {},
   "source": [
    "搞切片，就不会关联，是独立出来的。"
   ]
  },
  {
   "cell_type": "code",
   "execution_count": 4,
   "metadata": {},
   "outputs": [
    {
     "name": "stdout",
     "output_type": "stream",
     "text": [
      "['mon', 'tue', 'Wed', 'Thur', 'Fri'] ['mon', 'tue', 'Wed', 'Thur', 'Fri']\n",
      "['mon', 'tue', 'Wed', 'Thur', 'Fri']\n",
      "['mon', 'tue', 'Wed', 'Thur', 'Fri', 'Sat']\n",
      "['mon', 'tue', 'Wed', 'Thur', 'Fri', 'Sat']\n",
      "['mon', 'tue', 'Wed', 'Thur', 'Fri', 'Sat'] ['mon', 'tue', 'Wed', 'Thur', 'Fri', 'Sun']\n",
      "['mon', 'tue', 'Wed', 'Thur', 'Fri', 'Sat']\n"
     ]
    }
   ],
   "source": [
    "days=[\"mon\",\"tue\",\"Wed\",\"Thur\",\"Fri\"]\n",
    "list_1=days\n",
    "list_2=days[:]\n",
    "print(list_1,list_2)\n",
    "print(days)\n",
    "list_1.append(\"Sat\")\n",
    "print(days)\n",
    "list_2.append(\"Sun\")\n",
    "print(days)\n",
    "print(list_1,list_2)\n",
    "print(days)"
   ]
  },
  {
   "cell_type": "markdown",
   "metadata": {},
   "source": [
    "#### 练习4-10"
   ]
  },
  {
   "cell_type": "code",
   "execution_count": 7,
   "metadata": {},
   "outputs": [
    {
     "name": "stdout",
     "output_type": "stream",
     "text": [
      "The first three items in the list are:['mon', 'tue', 'Wed']\n",
      "The items from the middle of the list are:['Thur', 'Fri', 'Sat']\n",
      "The last three items in the list are:['Thur', 'Fri', 'Sat']\n"
     ]
    }
   ],
   "source": [
    "print(f\"The first three items in the list are:{days[:3]}\")\n",
    "print(f\"The items from the middle of the list are:{days[3:6]}\")\n",
    "print(f\"The last three items in the list are:{days[-3:]}\")"
   ]
  },
  {
   "cell_type": "markdown",
   "metadata": {},
   "source": [
    "#### 练习4-11"
   ]
  },
  {
   "cell_type": "code",
   "execution_count": 10,
   "metadata": {},
   "outputs": [
    {
     "name": "stdout",
     "output_type": "stream",
     "text": [
      "My favouraite are:\n",
      "chui hui\n",
      "xiao chou\n",
      "wu gan\n",
      "wo de shijieshouze\n",
      "long quan\n",
      "just dance\n",
      "\n",
      "My friend's favouraite are:\n",
      "chui hui\n",
      "xiao chou\n",
      "wu gan\n",
      "wo de shijieshouze\n",
      "long quan\n",
      "freestyle\n"
     ]
    }
   ],
   "source": [
    "dreaming_performance=[\"chui hui\",\"xiao chou\",\"wu gan\",\"wo de shijieshouze\",\"long quan\"]\n",
    "my_friend=dreaming_performance[:]\n",
    "dreaming_performance.append(\"just dance\")\n",
    "my_friend.append(\"freestyle\")\n",
    "print(\"My favouraite are:\")\n",
    "for by in dreaming_performance:\n",
    "    print(by)\n",
    "print(\"\\nMy friend's favouraite are:\")\n",
    "for by in my_friend:\n",
    "    print(by)"
   ]
  },
  {
   "cell_type": "markdown",
   "metadata": {},
   "source": [
    "### 元组"
   ]
  },
  {
   "cell_type": "markdown",
   "metadata": {},
   "source": [
    "#### 列表处理可能变化的数据，而元组创建一系列不可修改的元素"
   ]
  },
  {
   "cell_type": "markdown",
   "metadata": {},
   "source": [
    "#### 元组像列表，但是使用圆括号而不是中括号来标识。\n",
    "可以用索引来访问元组的元素，就 元组名[索引:索引]\\元组名[索引]"
   ]
  },
  {
   "cell_type": "code",
   "execution_count": 3,
   "metadata": {},
   "outputs": [
    {
     "data": {
      "text/plain": [
       "('街舞3v3', 85)"
      ]
     },
     "execution_count": 3,
     "metadata": {},
     "output_type": "execute_result"
    }
   ],
   "source": [
    "my_top=(\"我的世界守则\",\"无感\",\"街舞3v3\",85)\n",
    "my_top[-2:]"
   ]
  },
  {
   "cell_type": "markdown",
   "metadata": {},
   "source": [
    "#### 不能给元组的元素赋值"
   ]
  },
  {
   "cell_type": "markdown",
   "metadata": {},
   "source": [
    "元组由逗号标识，如果定义只包含一个元素的元组，必须在这个元素后面加逗号"
   ]
  },
  {
   "cell_type": "code",
   "execution_count": 1,
   "metadata": {},
   "outputs": [],
   "source": [
    "top=(\"无感\",)"
   ]
  },
  {
   "cell_type": "code",
   "execution_count": 2,
   "metadata": {},
   "outputs": [
    {
     "data": {
      "text/plain": [
       "('无感',)"
      ]
     },
     "execution_count": 2,
     "metadata": {},
     "output_type": "execute_result"
    }
   ],
   "source": [
    "top"
   ]
  },
  {
   "cell_type": "markdown",
   "metadata": {},
   "source": [
    "#### 遍历元组和遍历列表一样"
   ]
  },
  {
   "cell_type": "code",
   "execution_count": 4,
   "metadata": {},
   "outputs": [
    {
     "name": "stdout",
     "output_type": "stream",
     "text": [
      "my favaroutite are\n",
      "我的世界守则\n",
      "无感\n",
      "街舞3v3\n",
      "85\n"
     ]
    }
   ],
   "source": [
    "print(\"my favaroutite are\")\n",
    "for t in my_top:\n",
    "    print(t)"
   ]
  },
  {
   "cell_type": "markdown",
   "metadata": {},
   "source": [
    "#### 不能给元组的元素赋值，但是可以给储存元组的变量赋值"
   ]
  },
  {
   "cell_type": "code",
   "execution_count": 6,
   "metadata": {},
   "outputs": [
    {
     "name": "stdout",
     "output_type": "stream",
     "text": [
      "(85, '王甜甜')\n",
      "('王天天',)\n"
     ]
    }
   ],
   "source": [
    "my_lover=(85,\"王甜甜\")\n",
    "print(my_lover)\n",
    "my_lover=(\"王天天\",)\n",
    "print(my_lover)"
   ]
  },
  {
   "cell_type": "markdown",
   "metadata": {},
   "source": [
    "#### 练习4-13"
   ]
  },
  {
   "cell_type": "code",
   "execution_count": 7,
   "metadata": {},
   "outputs": [
    {
     "name": "stdout",
     "output_type": "stream",
     "text": [
      "可乐\n",
      "炸鸡\n",
      "汉堡\n",
      "薯条\n",
      "炸鱼\n"
     ]
    }
   ],
   "source": [
    "dishes=(\"可乐\",\"炸鸡\",\"汉堡\",\"薯条\",\"炸鱼\")\n",
    "for dish in dishes:\n",
    "    print(dish)"
   ]
  },
  {
   "cell_type": "code",
   "execution_count": 8,
   "metadata": {},
   "outputs": [
    {
     "ename": "TypeError",
     "evalue": "'tuple' object does not support item assignment",
     "output_type": "error",
     "traceback": [
      "\u001b[1;31m---------------------------------------------------------------------------\u001b[0m",
      "\u001b[1;31mTypeError\u001b[0m                                 Traceback (most recent call last)",
      "\u001b[1;32m<ipython-input-8-827024d9b11d>\u001b[0m in \u001b[0;36m<module>\u001b[1;34m\u001b[0m\n\u001b[1;32m----> 1\u001b[1;33m \u001b[0mdishes\u001b[0m\u001b[1;33m[\u001b[0m\u001b[1;36m0\u001b[0m\u001b[1;33m]\u001b[0m\u001b[1;33m=\u001b[0m\u001b[1;34m\"水煮鱼\"\u001b[0m\u001b[1;33m\u001b[0m\u001b[1;33m\u001b[0m\u001b[0m\n\u001b[0m",
      "\u001b[1;31mTypeError\u001b[0m: 'tuple' object does not support item assignment"
     ]
    }
   ],
   "source": [
    "dishes[0]=\"水煮鱼\""
   ]
  },
  {
   "cell_type": "code",
   "execution_count": null,
   "metadata": {},
   "outputs": [],
   "source": []
  }
 ],
 "metadata": {
  "kernelspec": {
   "display_name": "Python 3",
   "language": "python",
   "name": "python3"
  },
  "language_info": {
   "codemirror_mode": {
    "name": "ipython",
    "version": 3
   },
   "file_extension": ".py",
   "mimetype": "text/x-python",
   "name": "python",
   "nbconvert_exporter": "python",
   "pygments_lexer": "ipython3",
   "version": "3.7.4"
  }
 },
 "nbformat": 4,
 "nbformat_minor": 2
}
