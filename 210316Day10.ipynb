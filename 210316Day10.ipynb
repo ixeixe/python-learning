{
 "cells": [
  {
   "cell_type": "markdown",
   "metadata": {},
   "source": [
    "#### 练习6-3"
   ]
  },
  {
   "cell_type": "code",
   "execution_count": 5,
   "metadata": {
    "scrolled": true
   },
   "outputs": [
    {
     "name": "stdout",
     "output_type": "stream",
     "text": [
      "list:列表\n"
     ]
    }
   ],
   "source": [
    "glossary={'list':'列表','dictionary':'字典','if_else':'选择结构','for':'for循环','f':'f字符串'}\n",
    "\n",
    "print(f\"list:{glossary['list']}\")"
   ]
  },
  {
   "cell_type": "markdown",
   "metadata": {},
   "source": [
    "#### 遍历字典"
   ]
  },
  {
   "cell_type": "markdown",
   "metadata": {},
   "source": [
    "#### 遍历所有#键值对"
   ]
  },
  {
   "cell_type": "code",
   "execution_count": null,
   "metadata": {},
   "outputs": [],
   "source": []
  },
  {
   "cell_type": "code",
   "execution_count": 9,
   "metadata": {},
   "outputs": [
    {
     "name": "stdout",
     "output_type": "stream",
     "text": [
      "\n",
      "Key:username\n",
      "Value:lzx\n",
      "\n",
      "Key:first\n",
      "Value:zixuan\n",
      "\n",
      "Key:last\n",
      "Value:li\n"
     ]
    }
   ],
   "source": [
    "user_0={\n",
    "    'username':'lzx',\n",
    "    'first':'zixuan',\n",
    "    'last':'li'\n",
    "}\n",
    "for key,value in user_0.items():\n",
    "    print(f\"\\nKey:{key}\")\n",
    "    print(f\"Value:{value}\")"
   ]
  },
  {
   "cell_type": "markdown",
   "metadata": {},
   "source": [
    "如上所示，遍历字典的for循环，可声明两个变量（任意名称），分别储存键和值。"
   ]
  },
  {
   "cell_type": "markdown",
   "metadata": {},
   "source": [
    "#### 方法 字典名.items() 会返回一个键值对列表\n",
    "for循环依次将每个键值对赋给指定的两个变量"
   ]
  },
  {
   "cell_type": "code",
   "execution_count": 12,
   "metadata": {},
   "outputs": [
    {
     "name": "stdout",
     "output_type": "stream",
     "text": [
      "第1件上热搜的事是：Lhr Wq\n",
      "第2件上热搜的事是：Lyf Fan\n",
      "第3件上热搜的事是：Wyb Lzx\n",
      "第4件上热搜的事是：Cxk Llz\n",
      "第5件上热搜的事是：Hcy\n"
     ]
    }
   ],
   "source": [
    "guas={'1':'lhr wq','2':'lyf fan','3':'wyb lzx','4':'cxk llz','5':'hcy'}\n",
    "for sort,gua in guas.items():\n",
    "    print(f\"第{sort}件上热搜的事是：{gua.title()}\")"
   ]
  },
  {
   "cell_type": "markdown",
   "metadata": {},
   "source": [
    "#### 遍历字典所有#键\n",
    "\n",
    "不需要值，用方法 .keys()"
   ]
  },
  {
   "cell_type": "code",
   "execution_count": 15,
   "metadata": {},
   "outputs": [
    {
     "name": "stdout",
     "output_type": "stream",
     "text": [
      "dict_keys(['1', '2', '3', '4', '5'])\n",
      "dict_keys(['username', 'first', 'last'])\n"
     ]
    }
   ],
   "source": [
    "print(guas.keys())\n",
    "print(user_0.keys())"
   ]
  },
  {
   "cell_type": "code",
   "execution_count": 16,
   "metadata": {},
   "outputs": [
    {
     "name": "stdout",
     "output_type": "stream",
     "text": [
      "1\n",
      "2\n",
      "3\n",
      "4\n",
      "5\n"
     ]
    }
   ],
   "source": [
    "for sort in guas.keys():\n",
    "    print(sort)"
   ]
  },
  {
   "cell_type": "markdown",
   "metadata": {},
   "source": [
    "#### 遍历字典时会默认遍历所有的键，keys()更容易理解而已"
   ]
  },
  {
   "cell_type": "code",
   "execution_count": 17,
   "metadata": {},
   "outputs": [
    {
     "name": "stdout",
     "output_type": "stream",
     "text": [
      "1\n",
      "2\n",
      "3\n",
      "4\n",
      "5\n"
     ]
    }
   ],
   "source": [
    "for sort in guas:\n",
    "    print(sort)"
   ]
  },
  {
   "cell_type": "markdown",
   "metadata": {},
   "source": [
    "#### 按特定顺序遍历字典中的所有键"
   ]
  },
  {
   "cell_type": "markdown",
   "metadata": {},
   "source": [
    "①在for循环中对返回的键进行排序，用函数sorted()，不能用方法.sort()"
   ]
  },
  {
   "cell_type": "code",
   "execution_count": 22,
   "metadata": {
    "scrolled": true
   },
   "outputs": [
    {
     "ename": "AttributeError",
     "evalue": "'dict_keys' object has no attribute 'sort'",
     "output_type": "error",
     "traceback": [
      "\u001b[1;31m---------------------------------------------------------------------------\u001b[0m",
      "\u001b[1;31mAttributeError\u001b[0m                            Traceback (most recent call last)",
      "\u001b[1;32m<ipython-input-22-a99dc8bcea75>\u001b[0m in \u001b[0;36m<module>\u001b[1;34m\u001b[0m\n\u001b[1;32m----> 1\u001b[1;33m \u001b[1;32mfor\u001b[0m \u001b[0mneirong\u001b[0m \u001b[1;32min\u001b[0m \u001b[0muser_0\u001b[0m\u001b[1;33m.\u001b[0m\u001b[0mkeys\u001b[0m\u001b[1;33m(\u001b[0m\u001b[1;33m)\u001b[0m\u001b[1;33m.\u001b[0m\u001b[0msort\u001b[0m\u001b[1;33m(\u001b[0m\u001b[1;33m)\u001b[0m\u001b[1;33m:\u001b[0m\u001b[1;33m\u001b[0m\u001b[1;33m\u001b[0m\u001b[0m\n\u001b[0m\u001b[0;32m      2\u001b[0m     \u001b[0mprint\u001b[0m\u001b[1;33m(\u001b[0m\u001b[0mneirong\u001b[0m\u001b[1;33m)\u001b[0m\u001b[1;33m\u001b[0m\u001b[1;33m\u001b[0m\u001b[0m\n",
      "\u001b[1;31mAttributeError\u001b[0m: 'dict_keys' object has no attribute 'sort'"
     ]
    }
   ],
   "source": [
    "for neirong in user_0.keys().sort():\n",
    "    print(neirong)"
   ]
  },
  {
   "cell_type": "code",
   "execution_count": 19,
   "metadata": {},
   "outputs": [
    {
     "name": "stdout",
     "output_type": "stream",
     "text": [
      "first\n",
      "last\n",
      "username\n"
     ]
    }
   ],
   "source": [
    "for neirong in sorted(user_0.keys()):\n",
    "    print(neirong)"
   ]
  },
  {
   "cell_type": "markdown",
   "metadata": {},
   "source": [
    "#### 遍历字典中所有值\n",
    "方法.values()，返回一个值列表，不包含任何键"
   ]
  },
  {
   "cell_type": "code",
   "execution_count": 25,
   "metadata": {},
   "outputs": [
    {
     "name": "stdout",
     "output_type": "stream",
     "text": [
      "Python\n",
      "C\n",
      "C\n"
     ]
    }
   ],
   "source": [
    "favorite_languages={\n",
    "    'zyx':'python',\n",
    "    '85':'C',\n",
    "    'ljc':'C',\n",
    "}\n",
    "for language in favorite_languages.values():\n",
    "    print(language.title())"
   ]
  },
  {
   "cell_type": "markdown",
   "metadata": {},
   "source": [
    "#### 这种做法没有考虑是否重复，若想剔除重复项，可使用集合（set），函数set（）"
   ]
  },
  {
   "cell_type": "code",
   "execution_count": 26,
   "metadata": {},
   "outputs": [
    {
     "name": "stdout",
     "output_type": "stream",
     "text": [
      "C\n",
      "Python\n"
     ]
    }
   ],
   "source": [
    "for language in set(favorite_languages.values()):\n",
    "    print(language.title())"
   ]
  },
  {
   "cell_type": "markdown",
   "metadata": {},
   "source": [
    "#### (上面这个好像可以剔除重复的弹幕，如果能写代码让重复的弹幕消除就好了，给那个百万视频用）"
   ]
  },
  {
   "cell_type": "markdown",
   "metadata": {},
   "source": [
    "#### 集合 集合名={'1','2','3'}\n",
    "可以自动省略重复的元素，不会以特定的顺序储存元素"
   ]
  },
  {
   "cell_type": "code",
   "execution_count": 27,
   "metadata": {},
   "outputs": [
    {
     "data": {
      "text/plain": [
       "{'C', 'c', 'python'}"
      ]
     },
     "execution_count": 27,
     "metadata": {},
     "output_type": "execute_result"
    }
   ],
   "source": [
    "language={'c','C','python'}\n",
    "language"
   ]
  },
  {
   "cell_type": "markdown",
   "metadata": {},
   "source": [
    "#### 练习6-4"
   ]
  },
  {
   "cell_type": "code",
   "execution_count": 28,
   "metadata": {},
   "outputs": [
    {
     "name": "stdout",
     "output_type": "stream",
     "text": [
      "list:列表\n",
      "dictionary:字典\n",
      "if_else:选择结构\n",
      "for:for循环\n",
      "f:f字符串\n"
     ]
    }
   ],
   "source": [
    "glossary={'list':'列表','dictionary':'字典','if_else':'选择结构','for':'for循环','f':'f字符串'}\n",
    "\n",
    "for name,mean in glossary.items():\n",
    "    print(f\"{name}:{mean}\")"
   ]
  },
  {
   "cell_type": "markdown",
   "metadata": {},
   "source": [
    "#### 练习6-5"
   ]
  },
  {
   "cell_type": "code",
   "execution_count": 35,
   "metadata": {},
   "outputs": [
    {
     "name": "stdout",
     "output_type": "stream",
     "text": [
      "Nile runs through Egypt\n",
      "Chang Jiang runs through China\n",
      "\n",
      "\n",
      "Egypt\n",
      "China\n",
      "\n",
      "\n",
      "Nile\n",
      "Chang Jiang\n"
     ]
    }
   ],
   "source": [
    "rivers={'Egypt':'Nile','China':'Chang Jiang'}\n",
    "for country,river in rivers.items():\n",
    "    print(f\"{river} runs through {country}\")\n",
    "print(\"\\n\")\n",
    "for country in rivers:\n",
    "    print(country)\n",
    "print(\"\\n\")\n",
    "for river in rivers.values():\n",
    "    print(river)"
   ]
  },
  {
   "cell_type": "markdown",
   "metadata": {},
   "source": [
    "#### 练习6-6"
   ]
  },
  {
   "cell_type": "code",
   "execution_count": 36,
   "metadata": {},
   "outputs": [
    {
     "name": "stdout",
     "output_type": "stream",
     "text": [
      "zyx,thanks for it\n",
      "85,thanks for it\n",
      "王甜甜欢迎加入\n",
      "wyb欢迎加入\n"
     ]
    }
   ],
   "source": [
    "favorite_languages={\n",
    "    'zyx':'python',\n",
    "    '85':'C',\n",
    "    'ljc':'C',\n",
    "}\n",
    "names=['zyx','85','王甜甜','wyb']\n",
    "for name in names:\n",
    "    if name in favorite_languages.keys():\n",
    "        print(f\"{name},thanks for it\")\n",
    "    else:\n",
    "        print(f\"{name}欢迎加入\")"
   ]
  },
  {
   "cell_type": "code",
   "execution_count": null,
   "metadata": {},
   "outputs": [],
   "source": []
  }
 ],
 "metadata": {
  "kernelspec": {
   "display_name": "Python 3",
   "language": "python",
   "name": "python3"
  },
  "language_info": {
   "codemirror_mode": {
    "name": "ipython",
    "version": 3
   },
   "file_extension": ".py",
   "mimetype": "text/x-python",
   "name": "python",
   "nbconvert_exporter": "python",
   "pygments_lexer": "ipython3",
   "version": "3.7.4"
  }
 },
 "nbformat": 4,
 "nbformat_minor": 2
}
