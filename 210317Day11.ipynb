{
 "cells": [
  {
   "cell_type": "markdown",
   "metadata": {},
   "source": [
    "### 嵌套"
   ]
  },
  {
   "cell_type": "markdown",
   "metadata": {},
   "source": [
    "#### 将一系列字典储存在列表中，或者将列表作为值储存在字典中，在字典中嵌套字典"
   ]
  },
  {
   "cell_type": "markdown",
   "metadata": {},
   "source": [
    "#### 字典列表\n",
    "里面每个字典的结构都一样，可以批量处理"
   ]
  },
  {
   "cell_type": "code",
   "execution_count": 3,
   "metadata": {},
   "outputs": [
    {
     "name": "stdout",
     "output_type": "stream",
     "text": [
      "dict_items([('color', 'green'), ('points', 15)])\n",
      "dict_items([('color', 'red'), ('points', 0)])\n",
      "dict_items([('color', 'black'), ('points', 5)])\n"
     ]
    }
   ],
   "source": [
    "alien_0={'color':'green','points':15}\n",
    "alien_1={'color':'red','points':0}\n",
    "alien_2={'color':'black','points':5}\n",
    "aliens=[alien_0,alien_1,alien_2]\n",
    "for alien in aliens:\n",
    "    print(alien.items())"
   ]
  },
  {
   "cell_type": "code",
   "execution_count": 7,
   "metadata": {},
   "outputs": [
    {
     "name": "stdout",
     "output_type": "stream",
     "text": [
      "{'color': 'green', 'points': 15, 'speed': 'fast'}\n",
      "{'color': 'green', 'points': 15, 'speed': 'fast'}\n",
      "{'color': 'green', 'points': 15, 'speed': 'fast'}\n",
      "{'color': 'green', 'points': 15, 'speed': 'fast'}\n",
      "{'color': 'green', 'points': 15, 'speed': 'fast'}\n",
      "我们创建了30个绿色外星人\n"
     ]
    }
   ],
   "source": [
    "aliens=[]\n",
    "for number in range(1,31):\n",
    "    new_alien={'color':'green','points':15,'speed':'fast'}\n",
    "    aliens.append(new_alien)\n",
    "for alien in aliens[:5]:\n",
    "    print(alien)\n",
    "print(f\"我们创建了{len(aliens)}个绿色外星人\")"
   ]
  },
  {
   "cell_type": "markdown",
   "metadata": {},
   "source": [
    "这些外星人有相同的特征，但是在python看来，每个外星人都是独立的，我们可以独立修改每个外星人"
   ]
  },
  {
   "cell_type": "code",
   "execution_count": 18,
   "metadata": {},
   "outputs": [
    {
     "name": "stdout",
     "output_type": "stream",
     "text": [
      "{'color': 'red', 'points': 0, 'speed': 'slow'}\n",
      "{'color': 'red', 'points': 0, 'speed': 'slow'}\n",
      "{'color': 'green', 'points': 15, 'speed': 'fast'}\n",
      "{'color': 'red', 'points': 0, 'speed': 'slow'}\n",
      "{'color': 'red', 'points': 0, 'speed': 'slow'}\n",
      "{'color': 'green', 'points': 15, 'speed': 'fast'}\n",
      "{'color': 'red', 'points': 0, 'speed': 'slow'}\n",
      "{'color': 'red', 'points': 0, 'speed': 'slow'}\n",
      "{'color': 'green', 'points': 15, 'speed': 'fast'}\n",
      "{'color': 'red', 'points': 0, 'speed': 'slow'}\n"
     ]
    }
   ],
   "source": [
    "aliens=[]\n",
    "for number in range(1,31):\n",
    "    if number in range(0,31,3):\n",
    "        new_alien={'color':'green','points':15,'speed':'fast'}\n",
    "    else:\n",
    "        new_alien={'color':'red','points':0,'speed':'slow'}\n",
    "    aliens.append(new_alien)\n",
    "for alien in aliens[:10]:\n",
    "    print(alien)\n"
   ]
  },
  {
   "cell_type": "code",
   "execution_count": 27,
   "metadata": {},
   "outputs": [
    {
     "name": "stdout",
     "output_type": "stream",
     "text": [
      "{'color': 'red', 'points': 0, 'speed': 'slow'}\n",
      "{'color': 'red', 'points': 0, 'speed': 'slow'}\n",
      "{'color': 'yellow', 'points': 10, 'speed': 'medium'}\n",
      "{'color': 'red', 'points': 0, 'speed': 'slow'}\n",
      "{'color': 'red', 'points': 0, 'speed': 'slow'}\n",
      "{'color': 'green', 'points': 15, 'speed': 'fast'}\n"
     ]
    }
   ],
   "source": [
    "aliens=[]\n",
    "for number in range(1,31):\n",
    "    if number in range(0,31,3):\n",
    "        new_alien={'color':'green','points':15,'speed':'fast'}\n",
    "    else:\n",
    "        new_alien={'color':'yellow','points':10,'speed':'medium'}\n",
    "    aliens.append(new_alien)\n",
    "    \n",
    "for alien in aliens[:5]:\n",
    "    if alien['color']=='green':\n",
    "        alien['color']='yellow'\n",
    "        alien['speed']='medium'\n",
    "        alien['points']=10\n",
    "    elif alien['color']=='yellow':\n",
    "        alien['color']='red'\n",
    "        alien['speed']='slow'\n",
    "        alien['points']=0\n",
    "    \n",
    "\n",
    "for alien in aliens[:6]:\n",
    "    print(alien)\n"
   ]
  },
  {
   "cell_type": "markdown",
   "metadata": {},
   "source": [
    "#### 在字典中储存列表"
   ]
  },
  {
   "cell_type": "code",
   "execution_count": 32,
   "metadata": {},
   "outputs": [
    {
     "name": "stdout",
     "output_type": "stream",
     "text": [
      "You ordered a thick-crust pizza\n",
      "\t+mushrooms\n",
      "\t+extra cheese\n",
      "\t+pepper\n"
     ]
    }
   ],
   "source": [
    "pizza={\n",
    "    'crust':'thick',\n",
    "    'toppings':['mushrooms','extra cheese','pepper']\n",
    "}\n",
    "print(f\"You ordered a {pizza['crust']}-crust pizza\")\n",
    "for topping in pizza['toppings']:\n",
    "      print(f\"\\t+{topping}\")"
   ]
  },
  {
   "cell_type": "code",
   "execution_count": 36,
   "metadata": {},
   "outputs": [
    {
     "name": "stdout",
     "output_type": "stream",
     "text": [
      "粉丝数为30000000+的是：\n",
      "\twyb\n",
      "\tcxk\n",
      "\tlhr\n",
      "\thcy\n",
      "粉丝数为60000000+的是：\n",
      "\tlyf\n",
      "\thj\n"
     ]
    }
   ],
   "source": [
    "stars={\n",
    "    '30000000+':['wyb','cxk','lhr','hcy'],\n",
    "    '60000000+':['lyf','hj'],\n",
    "}\n",
    "for fans,name in stars.items():\n",
    "    print(f\"粉丝数为{fans}的是：\")\n",
    "    for star in name:\n",
    "        print(f\"\\t{star}\")\n"
   ]
  },
  {
   "cell_type": "markdown",
   "metadata": {},
   "source": [
    "#### 字典中储存字典\n",
    "但是代码可能很快复杂起来"
   ]
  },
  {
   "cell_type": "code",
   "execution_count": 39,
   "metadata": {},
   "outputs": [
    {
     "name": "stdout",
     "output_type": "stream",
     "text": [
      "\n",
      "Star wyb:\n",
      "\twyb的full_name is Wang Yi Bo\n",
      "\twyb的location is luoyang\n",
      "\n",
      "Star cxk:\n",
      "\tcxk的full_name is Cai Xu Kun\n",
      "\tcxk的location is shenzhen\n"
     ]
    }
   ],
   "source": [
    "stars={\n",
    "    'wyb':{'first':'Yi Bo','last':'Wang','location':'luoyang'},\n",
    "    'cxk':{'first':'Xu Kun','last':'Cai','location':'shenzhen'}\n",
    "}\n",
    "for star,info in stars.items():\n",
    "    print(f\"\\nStar {star}:\")\n",
    "    full_name=f\"{info['last']} {info['first']}\"\n",
    "    location=info['location']\n",
    "    \n",
    "    print(f\"\\t{star}的full_name is {full_name}\")\n",
    "    print(f\"\\t{star}的location is {location}\")"
   ]
  },
  {
   "cell_type": "markdown",
   "metadata": {},
   "source": [
    "#### 练习6-7"
   ]
  },
  {
   "cell_type": "code",
   "execution_count": 41,
   "metadata": {},
   "outputs": [
    {
     "name": "stdout",
     "output_type": "stream",
     "text": [
      "Wang Yi Bo的location is luoyang\n",
      "Cai Xu Kun的location is shenzhen\n"
     ]
    }
   ],
   "source": [
    "wyb={'first':'Yi Bo','last':'Wang','location':'luoyang'}\n",
    "cxk={'first':'Xu Kun','last':'Cai','location':'shenzhen'}sss\n",
    "people=[wyb,cxk]\n",
    "for person in people:\n",
    "    fullname=f\"{person['last']} {person['first']}\"\n",
    "    location=person['location']\n",
    "    print(f\"{fullname}的location is {location}\")\n"
   ]
  },
  {
   "cell_type": "code",
   "execution_count": 7,
   "metadata": {},
   "outputs": [
    {
     "name": "stdout",
     "output_type": "stream",
     "text": [
      "\n",
      "\n",
      "name:猫\n",
      "type:哺乳动物\n",
      "character:高冷温顺\n",
      "\n",
      "\n",
      "name:狗\n",
      "type:哺乳动物\n",
      "character:热情\n"
     ]
    }
   ],
   "source": [
    "cats={\n",
    "    'name':'猫',\n",
    "    'type':'哺乳动物',\n",
    "    'character':'高冷温顺'\n",
    "}\n",
    "dogs={\n",
    "    'name':'狗',\n",
    "    'type':'哺乳动物',\n",
    "    'character':'热情'\n",
    "}\n",
    "pets=[cats,dogs]\n",
    "for pet in pets:\n",
    "    print(\"\\n\")\n",
    "    for a,b in pet.items():\n",
    "        print(f\"{a}:{b}\")\n",
    "          \n",
    "    "
   ]
  },
  {
   "cell_type": "markdown",
   "metadata": {},
   "source": [
    "#### 练习6-9"
   ]
  },
  {
   "cell_type": "code",
   "execution_count": 8,
   "metadata": {},
   "outputs": [
    {
     "name": "stdout",
     "output_type": "stream",
     "text": [
      "zyx最喜欢的地方是Luoyang\n",
      "wyb最喜欢的地方是巴塞罗那\n",
      "cx最喜欢的地方是['巴塞罗那', '日本']\n"
     ]
    }
   ],
   "source": [
    "favourite_places={'zyx':'Luoyang','wyb':'巴塞罗那','cx':['巴塞罗那','日本']}\n",
    "for name,place in favourite_places.items():\n",
    "    #其实我想先判断是不是有多个地方，但是我好像不太会，可以用type是字符串还是列表来判断\n",
    "    print(f\"{name}最喜欢的地方是{place}\")"
   ]
  },
  {
   "cell_type": "markdown",
   "metadata": {},
   "source": [
    "#### 练习6-10"
   ]
  },
  {
   "cell_type": "code",
   "execution_count": 13,
   "metadata": {},
   "outputs": [],
   "source": [
    "from sklearn import datasets\n",
    "import matplotlib.pyplot as plt\n",
    "import numpy as np\n",
    "iris = datasets.load_iris()"
   ]
  },
  {
   "cell_type": "code",
   "execution_count": 16,
   "metadata": {},
   "outputs": [
    {
     "name": "stdout",
     "output_type": "stream",
     "text": [
      "dict_keys(['data', 'target', 'target_names', 'DESCR', 'feature_names', 'filename'])\n"
     ]
    }
   ],
   "source": [
    "print(iris.keys())"
   ]
  },
  {
   "cell_type": "code",
   "execution_count": 21,
   "metadata": {},
   "outputs": [
    {
     "data": {
      "text/plain": [
       "'D:\\\\APPPPPP\\\\a\\\\lib\\\\site-packages\\\\sklearn\\\\datasets\\\\data\\\\iris.csv'"
      ]
     },
     "execution_count": 21,
     "metadata": {},
     "output_type": "execute_result"
    }
   ],
   "source": [
    "iris['filename']"
   ]
  },
  {
   "cell_type": "markdown",
   "metadata": {},
   "source": [
    "#### 练习6-11"
   ]
  },
  {
   "cell_type": "code",
   "execution_count": 22,
   "metadata": {},
   "outputs": [
    {
     "name": "stdout",
     "output_type": "stream",
     "text": [
      "\n",
      "洛阳的相关信息是：\n",
      "\t所属国家是China，人口有692.22w+，那里是王一博家乡\n",
      "\n",
      "科隆的相关信息是：\n",
      "\t所属国家是German，人口有100.7w+，那里是很舒服的一个城市\n",
      "\n",
      "长沙的相关信息是：\n",
      "\t所属国家是China，人口有839.45w+，那里是牛肉粉很好吃的追星圣地\n"
     ]
    }
   ],
   "source": [
    "cities={\n",
    "    '洛阳':{'country':'China','population':'692.22w+','fact':'王一博家乡'},\n",
    "    '科隆':{'country':'German','population':'100.7w+','fact':'很舒服的一个城市'},\n",
    "    '长沙':{'country':'China','population':'839.45w+','fact':'牛肉粉很好吃的追星圣地'}\n",
    "}\n",
    "for city,info in cities.items():\n",
    "    print(f\"\\n{city}的相关信息是：\")\n",
    "    print(f\"\\t所属国家是{info['country']}，人口有{info['population']}，那里是{info['fact']}\")"
   ]
  },
  {
   "cell_type": "code",
   "execution_count": null,
   "metadata": {},
   "outputs": [],
   "source": []
  }
 ],
 "metadata": {
  "kernelspec": {
   "display_name": "Python 3",
   "language": "python",
   "name": "python3"
  },
  "language_info": {
   "codemirror_mode": {
    "name": "ipython",
    "version": 3
   },
   "file_extension": ".py",
   "mimetype": "text/x-python",
   "name": "python",
   "nbconvert_exporter": "python",
   "pygments_lexer": "ipython3",
   "version": "3.7.4"
  }
 },
 "nbformat": 4,
 "nbformat_minor": 2
}
