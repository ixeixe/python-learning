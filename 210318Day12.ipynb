{
 "cells": [
  {
   "cell_type": "markdown",
   "metadata": {},
   "source": [
    "#### 学习接受用户输入"
   ]
  },
  {
   "cell_type": "markdown",
   "metadata": {},
   "source": [
    "#### 函数input()\n",
    "第一个参数是要向用户显示的提示/说明"
   ]
  },
  {
   "cell_type": "code",
   "execution_count": null,
   "metadata": {},
   "outputs": [],
   "source": [
    "a=input('请输入区间左端点a=')\n",
    "b=input('请输入区间左端点b=')\n",
    "a,b=int(a),int(b)\n",
    "\n",
    "print(\"zhongdian=\",(a+b)/2)"
   ]
  },
  {
   "cell_type": "code",
   "execution_count": 5,
   "metadata": {},
   "outputs": [
    {
     "name": "stdout",
     "output_type": "stream",
     "text": [
      "Tell me something, and I will repeat it back to you:wyb\n",
      "wyb\n"
     ]
    }
   ],
   "source": [
    "message=input(\"Tell me something, and I will repeat it back to you:\")\n",
    "print(message)"
   ]
  },
  {
   "cell_type": "markdown",
   "metadata": {},
   "source": [
    "#### 使用input函数时应该给出明确清晰的提示"
   ]
  },
  {
   "cell_type": "code",
   "execution_count": 6,
   "metadata": {},
   "outputs": [
    {
     "name": "stdout",
     "output_type": "stream",
     "text": [
      "Hey tell me your name:zyx\n",
      "Hi! mtjj zyx\n"
     ]
    }
   ],
   "source": [
    "name=input(\"Hey tell me your name:\")\n",
    "print(f\"Hi! mtjj {name}\")"
   ]
  },
  {
   "cell_type": "markdown",
   "metadata": {},
   "source": [
    "#### 创建多行字符串的提示"
   ]
  },
  {
   "cell_type": "code",
   "execution_count": 7,
   "metadata": {},
   "outputs": [
    {
     "name": "stdout",
     "output_type": "stream",
     "text": [
      "如果你告诉我们你是谁，我们可以设定好你的个人信息\n",
      "所以，你的名字是：wyb\n",
      "\n",
      "你好呀!wyb\n"
     ]
    }
   ],
   "source": [
    "prompt=\"如果你告诉我们你是谁，我们可以设定好你的个人信息\"\n",
    "prompt+=\"\\n所以，你的名字是：\"\n",
    "\n",
    "name=input(prompt)\n",
    "print(f\"\\n你好呀!{name}\")"
   ]
  },
  {
   "cell_type": "markdown",
   "metadata": {},
   "source": [
    "#### 函数int()获取数值输入，用来把字符串转换成数值"
   ]
  },
  {
   "cell_type": "code",
   "execution_count": 10,
   "metadata": {},
   "outputs": [
    {
     "name": "stdout",
     "output_type": "stream",
     "text": [
      "如果你告诉我们你年龄，我们可以设定好你的个人信息\n",
      "所以，你的年龄是：-1\n",
      "你好呀！小朋友\n"
     ]
    }
   ],
   "source": [
    "prompt=\"如果你告诉我们你年龄，我们可以设定好你的个人信息\"\n",
    "prompt+=\"\\n所以，你的年龄是：\"\n",
    "\n",
    "age=input(prompt)\n",
    "age=int(age)\n",
    "if age >= 18:\n",
    "    print(f\"\\n你好呀!成年人\")\n",
    "else:\n",
    "    print(f\"你好呀！小朋友\")"
   ]
  },
  {
   "cell_type": "markdown",
   "metadata": {},
   "source": [
    "#### 求模运算符%\n",
    "将两个数相除并返回余数，可以用来判断奇数偶数\\本命年\\闰年"
   ]
  },
  {
   "cell_type": "code",
   "execution_count": 15,
   "metadata": {},
   "outputs": [
    {
     "data": {
      "text/plain": [
       "2"
      ]
     },
     "execution_count": 15,
     "metadata": {},
     "output_type": "execute_result"
    }
   ],
   "source": [
    "101%3"
   ]
  },
  {
   "cell_type": "code",
   "execution_count": 19,
   "metadata": {},
   "outputs": [
    {
     "name": "stdout",
     "output_type": "stream",
     "text": [
      "输入今年的年份:2021\n",
      "2021不是闰年\n"
     ]
    }
   ],
   "source": [
    "year =input(\"输入今年的年份:\")\n",
    "year=int(year)\n",
    "if year % 4 == 0:\n",
    "    print(f\"{year}闰年\")\n",
    "else:\n",
    "    print(f\"{year}不是闰年\")"
   ]
  },
  {
   "cell_type": "markdown",
   "metadata": {},
   "source": [
    "#### 练习7-1"
   ]
  },
  {
   "cell_type": "code",
   "execution_count": 21,
   "metadata": {},
   "outputs": [
    {
     "name": "stdout",
     "output_type": "stream",
     "text": [
      "请输入你想要租赁什么样的汽车Audi Q2L\n",
      "你想要的车是Audi Q2L\n"
     ]
    }
   ],
   "source": [
    "ideal_car=input(\"请输入你想要租赁什么样的汽车\")\n",
    "print(f\"你想要的车是{ideal_car}\")"
   ]
  },
  {
   "cell_type": "markdown",
   "metadata": {},
   "source": [
    "#### 练习7-2"
   ]
  },
  {
   "cell_type": "code",
   "execution_count": 22,
   "metadata": {},
   "outputs": [
    {
     "name": "stdout",
     "output_type": "stream",
     "text": [
      "请输入用餐人数:12\n",
      "抱歉，没有8人以上的空位\n"
     ]
    }
   ],
   "source": [
    "number=input(\"请输入用餐人数:\")\n",
    "number=int(number)\n",
    "if number > 8:\n",
    "    print(\"抱歉，没有8人以上的空位\")\n",
    "else:\n",
    "    print(\"请入座\")"
   ]
  },
  {
   "cell_type": "markdown",
   "metadata": {},
   "source": [
    "#### while循环\n",
    "用途广，平时打游戏的时候就会不断运行，用户让停才停"
   ]
  },
  {
   "cell_type": "code",
   "execution_count": 25,
   "metadata": {},
   "outputs": [
    {
     "name": "stdout",
     "output_type": "stream",
     "text": [
      "1\n",
      "2\n",
      "3\n",
      "4\n",
      "5\n"
     ]
    }
   ],
   "source": [
    "currenr_number=1\n",
    "while currenr_number<=5:#只要满足条件，就会执行循环内容\n",
    "    print(currenr_number)\n",
    "    currenr_number+=1#不会自动给你加一，for才会自动遍历，while要手动搞条件"
   ]
  },
  {
   "cell_type": "markdown",
   "metadata": {},
   "source": [
    "#### 让用户选择何时退出，定义一个退出值\n",
    "只要输入的不是这个值，就会一直进行"
   ]
  },
  {
   "cell_type": "code",
   "execution_count": 30,
   "metadata": {},
   "outputs": [
    {
     "name": "stdout",
     "output_type": "stream",
     "text": [
      "\n",
      "告诉我一个口令，对了就能退出循环\n",
      "所以，口令是：wyb\n",
      "wyb\n",
      "\n",
      "告诉我一个口令，对了就能退出循环\n",
      "所以，口令是：王一博平安喜乐\n",
      "对，口令就是“王一博平安喜乐”\n"
     ]
    }
   ],
   "source": [
    "prompt=\"\\n告诉我一个口令，对了就能退出循环\"\n",
    "prompt+=\"\\n所以，口令是：\"\n",
    "\n",
    "message=\"\"\n",
    "while message != '王一博平安喜乐':\n",
    "    message = input(prompt)\n",
    "    if message != '王一博平安喜乐':\n",
    "        print(message)\n",
    "print(f\"对，口令就是“{message}”\")"
   ]
  },
  {
   "cell_type": "markdown",
   "metadata": {},
   "source": [
    "#### 使用标志（flag）\n",
    "在导致程序结束的事件有很多的时候，要很多变量都满足才继续运行程序时，可以定义一个变量，用于判断整个程序是否处于活动状态"
   ]
  },
  {
   "cell_type": "code",
   "execution_count": 32,
   "metadata": {},
   "outputs": [
    {
     "name": "stdout",
     "output_type": "stream",
     "text": [
      "\n",
      "告诉我一个口令，对了就能退出循环\n",
      "所以，口令是：quit\n"
     ]
    }
   ],
   "source": [
    "prompt=\"\\n告诉我一个口令，对了就能退出循环\"\n",
    "prompt+=\"\\n所以，口令是：\"\n",
    "\n",
    "flag=True\n",
    "while flag:\n",
    "    message=input(prompt)\n",
    "    \n",
    "    if message == 'quit':\n",
    "        flag=False #类似这种，给这个事件设定可以触动flag开关\n",
    "    else:\n",
    "        print(message)"
   ]
  },
  {
   "cell_type": "markdown",
   "metadata": {},
   "source": [
    "#### 使用break退出循环"
   ]
  },
  {
   "cell_type": "code",
   "execution_count": 33,
   "metadata": {},
   "outputs": [
    {
     "name": "stdout",
     "output_type": "stream",
     "text": [
      "\n",
      "告诉我一个口令，对了就能退出循环\n",
      "所以，口令是：qu\n",
      "qu\n",
      "\n",
      "告诉我一个口令，对了就能退出循环\n",
      "所以，口令是：quit\n"
     ]
    }
   ],
   "source": [
    "prompt=\"\\n告诉我一个口令，对了就能退出循环\"\n",
    "prompt+=\"\\n所以，口令是：\"\n",
    "\n",
    "\n",
    "while True:#够狠，不用break出不来\n",
    "    message=input(prompt)\n",
    "    \n",
    "    if message == 'quit':\n",
    "        break\n",
    "    else:\n",
    "        print(message)"
   ]
  },
  {
   "cell_type": "markdown",
   "metadata": {},
   "source": [
    "#### 任何循环都可以用break，for循环也可以"
   ]
  },
  {
   "cell_type": "code",
   "execution_count": null,
   "metadata": {},
   "outputs": [],
   "source": []
  }
 ],
 "metadata": {
  "kernelspec": {
   "display_name": "Python 3",
   "language": "python",
   "name": "python3"
  },
  "language_info": {
   "codemirror_mode": {
    "name": "ipython",
    "version": 3
   },
   "file_extension": ".py",
   "mimetype": "text/x-python",
   "name": "python",
   "nbconvert_exporter": "python",
   "pygments_lexer": "ipython3",
   "version": "3.7.4"
  }
 },
 "nbformat": 4,
 "nbformat_minor": 2
}
