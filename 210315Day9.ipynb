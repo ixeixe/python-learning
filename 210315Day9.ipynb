{
 "cells": [
  {
   "cell_type": "markdown",
   "metadata": {},
   "source": [
    "#### 布尔表达式\n",
    "可以给变量赋“True”或“False”"
   ]
  },
  {
   "cell_type": "code",
   "execution_count": 1,
   "metadata": {},
   "outputs": [
    {
     "data": {
      "text/plain": [
       "False"
      ]
     },
     "execution_count": 1,
     "metadata": {},
     "output_type": "execute_result"
    }
   ],
   "source": [
    "a=True\n",
    "b=False\n",
    "b\n"
   ]
  },
  {
   "cell_type": "markdown",
   "metadata": {},
   "source": [
    "#### 练习5-1"
   ]
  },
  {
   "cell_type": "code",
   "execution_count": 5,
   "metadata": {},
   "outputs": [
    {
     "name": "stdout",
     "output_type": "stream",
     "text": [
      "Is wyb!='Chen Yu'?\n",
      "True\n",
      "Is wyb!='85'?\n",
      "False\n"
     ]
    }
   ],
   "source": [
    "wyb=\"85\"\n",
    "print(\"Is wyb!='Chen Yu'?\")\n",
    "print(wyb!=\"Chen YU\")\n",
    "print(\"Is wyb!='85'?\")\n",
    "print(wyb!=\"85\")"
   ]
  },
  {
   "cell_type": "markdown",
   "metadata": {},
   "source": [
    "#### 练习5-2"
   ]
  },
  {
   "cell_type": "code",
   "execution_count": 9,
   "metadata": {},
   "outputs": [
    {
     "name": "stdout",
     "output_type": "stream",
     "text": [
      "王一博酷盖\n"
     ]
    }
   ],
   "source": [
    "chenyu=\"yangzhen\"\n",
    "if chenyu==\"yangzhen\" or wyb==\"chenyu\":\n",
    "    print(\"王一博酷盖\")\n",
    "else:\n",
    "    print(\"王一博平安喜乐\")"
   ]
  },
  {
   "cell_type": "markdown",
   "metadata": {},
   "source": [
    "#### if后面可以跟任何条件测试，如果正确下一行就是执行操作"
   ]
  },
  {
   "cell_type": "markdown",
   "metadata": {},
   "source": [
    "#### if-else语句"
   ]
  },
  {
   "cell_type": "markdown",
   "metadata": {},
   "source": [
    "#### if-elif-else结构\n",
    "检查超过两个，依次检查每个条件测试，直到遇到通过了的条件测试。测试通过，执行紧跟其后的操作，并跳过余下测试"
   ]
  },
  {
   "cell_type": "code",
   "execution_count": 12,
   "metadata": {},
   "outputs": [
    {
     "name": "stdout",
     "output_type": "stream",
     "text": [
      "The price is $40\n"
     ]
    }
   ],
   "source": [
    "age=18\n",
    "if age<4:\n",
    "    price=0\n",
    "elif age<18:\n",
    "    price=25\n",
    "else:\n",
    "    price=40\n",
    "print(f\"The price is ${price}\")"
   ]
  },
  {
   "cell_type": "markdown",
   "metadata": {},
   "source": [
    "#### if-elif-else结构 可以用多个elif代码块"
   ]
  },
  {
   "cell_type": "code",
   "execution_count": 19,
   "metadata": {},
   "outputs": [
    {
     "name": "stdout",
     "output_type": "stream",
     "text": [
      "The price is $0\n"
     ]
    }
   ],
   "source": [
    "age=120\n",
    "if age<4:\n",
    "    price=0\n",
    "elif age<18:\n",
    "    price=25\n",
    "elif age<65:\n",
    "    price=40\n",
    "elif age>=65 and age<=120:\n",
    "    price=0\n",
    "else:\n",
    "    print(\"You are kidding me.\")\n",
    "print(f\"The price is ${price}\")"
   ]
  },
  {
   "cell_type": "code",
   "execution_count": 20,
   "metadata": {},
   "outputs": [
    {
     "name": "stdout",
     "output_type": "stream",
     "text": [
      "0\n"
     ]
    }
   ],
   "source": [
    "age=120\n",
    "if age<4:\n",
    "    price=0\n",
    "if age<18:\n",
    "    price=25\n",
    "if age<65:\n",
    "    price=40\n",
    "if age>=65 and age<=120:\n",
    "    price=0\n",
    "else:\n",
    "    print(\"You are kidding me.\")\n",
    "print(f\"{price}\")"
   ]
  },
  {
   "cell_type": "markdown",
   "metadata": {},
   "source": [
    "#### 练习5-3"
   ]
  },
  {
   "cell_type": "code",
   "execution_count": 22,
   "metadata": {},
   "outputs": [],
   "source": [
    "#alien_color=[\"green\",\"yellow\",\"red\"]\n",
    "alien_color=\"red\"\n",
    "if alien_color==\"green\":\n",
    "    print(\"+5\")\n"
   ]
  },
  {
   "cell_type": "markdown",
   "metadata": {},
   "source": [
    "#### 练习5-4"
   ]
  },
  {
   "cell_type": "code",
   "execution_count": 25,
   "metadata": {},
   "outputs": [
    {
     "name": "stdout",
     "output_type": "stream",
     "text": [
      "+0\n"
     ]
    }
   ],
   "source": [
    "if alien_color==\"green\":\n",
    "    print(\"+5\")\n",
    "else:\n",
    "    print(\"+0\")"
   ]
  },
  {
   "cell_type": "code",
   "execution_count": 26,
   "metadata": {},
   "outputs": [
    {
     "name": "stdout",
     "output_type": "stream",
     "text": [
      "+15\n"
     ]
    }
   ],
   "source": [
    "if  alien_color==\"green\":\n",
    "    print(\"+5\")\n",
    "elif  alien_color==\"yellow\":\n",
    "    print(\"+10\")\n",
    "elif  alien_color==\"red\":\n",
    "    print(\"+15\")\n",
    "else:\n",
    "    print(0)"
   ]
  },
  {
   "cell_type": "code",
   "execution_count": 27,
   "metadata": {},
   "outputs": [
    {
     "name": "stdout",
     "output_type": "stream",
     "text": [
      "old\n"
     ]
    }
   ],
   "source": [
    "age=150\n",
    "if age<2:\n",
    "    print(\"baby\")\n",
    "elif age<4:\n",
    "    print(\"幼儿\")\n",
    "elif age<13:\n",
    "    print(\"儿童\")\n",
    "elif age<20:\n",
    "    print(\"青少年\")\n",
    "elif age<65:\n",
    "    print(\"成年人\")\n",
    "elif age>=65:\n",
    "    print(\"old\")"
   ]
  },
  {
   "cell_type": "markdown",
   "metadata": {},
   "source": [
    "#### 练习5-7"
   ]
  },
  {
   "cell_type": "code",
   "execution_count": 2,
   "metadata": {},
   "outputs": [
    {
     "name": "stdout",
     "output_type": "stream",
     "text": [
      "You really like bananas!\n",
      "You really like watermelons!\n",
      "You really like bananas!\n"
     ]
    }
   ],
   "source": [
    "favorite_fruits=[\"banana\",\"watermelon\",\"mango\",\"apple\"]\n",
    "if \"banana\" in favorite_fruits:\n",
    "    print(\"You really like bananas!\")\n",
    "if \"watermelon\" in favorite_fruits:\n",
    "    print(\"You really like watermelons!\")  \n",
    "if \"banana\" in favorite_fruits:\n",
    "    print(\"You really like bananas!\")"
   ]
  },
  {
   "cell_type": "code",
   "execution_count": 3,
   "metadata": {},
   "outputs": [
    {
     "name": "stdout",
     "output_type": "stream",
     "text": [
      "Sorry, we don't have bananas.\n",
      "You bought watermelon\n",
      "You bought mango\n",
      "You bought apple\n"
     ]
    }
   ],
   "source": [
    "for fruit in favorite_fruits:\n",
    "    if fruit==\"banana\":\n",
    "        print(\"Sorry, we don't have bananas.\")\n",
    "    else :\n",
    "        print(f\"You bought {fruit}\")"
   ]
  },
  {
   "cell_type": "markdown",
   "metadata": {},
   "source": [
    "#### 列表至少包含一个元素时返回True，为空时返回False"
   ]
  },
  {
   "cell_type": "code",
   "execution_count": 2,
   "metadata": {},
   "outputs": [
    {
     "name": "stdout",
     "output_type": "stream",
     "text": [
      "you odered the tomato\n",
      "you odered the marshuroom\n"
     ]
    }
   ],
   "source": [
    "toppings=[\"tomato\",\"marshuroom\"]\n",
    "if toppings:\n",
    "    for top in toppings:\n",
    "        print(f\"you odered the {top}\")\n",
    "else:\n",
    "    print(\"Are you sure want a plain pizza?\")"
   ]
  },
  {
   "cell_type": "code",
   "execution_count": 3,
   "metadata": {},
   "outputs": [
    {
     "name": "stdout",
     "output_type": "stream",
     "text": [
      "cxk是闲人，倒有可能谈恋爱\n",
      "不好意思，wyb要是谈恋爱，私生、代拍先曝出来\n",
      "不了解sizi\n",
      "1是闲人，倒有可能谈恋爱\n",
      "2是闲人，倒有可能谈恋爱\n"
     ]
    }
   ],
   "source": [
    "tops=[\"cxk\",\"wyb\",\"sizi\",\"1\",\"2\"]\n",
    "if tops:\n",
    "    for top in tops:\n",
    "        if top == \"wyb\":\n",
    "            print(f\"不好意思，{top}要是谈恋爱，私生、代拍先曝出来\")\n",
    "        elif top == \"sizi\":\n",
    "            print(f\"不了解{top}\")\n",
    "        else:\n",
    "            print(f\"{top}是闲人，倒有可能谈恋爱\")\n",
    "else:\n",
    "    print(\"请输入明星\")"
   ]
  },
  {
   "cell_type": "code",
   "execution_count": 3,
   "metadata": {},
   "outputs": [
    {
     "name": "stdout",
     "output_type": "stream",
     "text": [
      "sorry we don't have炸鸡\n",
      "you odered the tomato\n"
     ]
    }
   ],
   "source": [
    "oders=[\"炸鸡\",\"tomato\"]\n",
    "for top in oders:\n",
    "    if top in toppings:\n",
    "        print(f\"you odered the {top}\")\n",
    "    else:\n",
    "        print(f\"sorry we don't have{top}\")"
   ]
  },
  {
   "cell_type": "markdown",
   "metadata": {},
   "source": [
    "#### 练习5-8"
   ]
  },
  {
   "cell_type": "code",
   "execution_count": 4,
   "metadata": {},
   "outputs": [
    {
     "name": "stdout",
     "output_type": "stream",
     "text": [
      "Hello 85，我是你的粉丝\n",
      "Hello admin,would you liek to……\n",
      "Hello 王天天，我是你的粉丝\n",
      "Hello 王队长，我是你的粉丝\n",
      "Hello 王老师，我是你的粉丝\n"
     ]
    }
   ],
   "source": [
    "user_names=[\"85\",\"admin\",\"王天天\",\"王队长\",\"王老师\"]\n",
    "for user_name in user_names:\n",
    "    if user_name==\"admin\":\n",
    "        print(f\"Hello {user_name},would you liek to……\")\n",
    "    else:\n",
    "        print(f\"Hello {user_name}，我是你的粉丝\")"
   ]
  },
  {
   "cell_type": "markdown",
   "metadata": {},
   "source": [
    "#### 练习5-9"
   ]
  },
  {
   "cell_type": "code",
   "execution_count": 10,
   "metadata": {},
   "outputs": [
    {
     "name": "stdout",
     "output_type": "stream",
     "text": [
      "We need to find some users\n"
     ]
    }
   ],
   "source": [
    "user_names=[]\n",
    "if user_names:\n",
    "    for user_name in user_names:\n",
    "        \n",
    "        if user_name==\"admin\":\n",
    "            print(f\"Hello {user_name},would you liek to……\")\n",
    "        else:\n",
    "            print(f\"Hello {user_name}，我是你的粉丝\")\n",
    "            \n",
    "else:\n",
    "    print(\"We need to find some users\")"
   ]
  },
  {
   "cell_type": "markdown",
   "metadata": {},
   "source": [
    "#### 练习5-10"
   ]
  },
  {
   "cell_type": "code",
   "execution_count": 12,
   "metadata": {},
   "outputs": [
    {
     "name": "stdout",
     "output_type": "stream",
     "text": [
      "蓝忘机 可用\n",
      "谢允 此用户名已被使用\n",
      "杨震 此用户名已被使用\n",
      "秦远 可用\n",
      "林佳一 可用\n"
     ]
    }
   ],
   "source": [
    "current_users=[\"85\",\"陈宇\",\"谢允\",\"杨震\",\"百里弘毅\"]\n",
    "new_users=[\"蓝忘机\",\"谢允\",\"杨震\",\"秦远\",\"林佳一\"]\n",
    "for new_user in new_users:\n",
    "    if new_user in current_users:\n",
    "        print(f\"{new_user} 此用户名已被使用\")\n",
    "    else:\n",
    "        print(f\"{new_user} 可用\")"
   ]
  },
  {
   "cell_type": "code",
   "execution_count": 15,
   "metadata": {},
   "outputs": [
    {
     "name": "stdout",
     "output_type": "stream",
     "text": [
      "chenyu 此用户名已被使用\n",
      "XieYun 此用户名已被使用\n",
      "Yangzhen 此用户名已被使用\n",
      "qinyuan 可用\n",
      "linjiayi 可用\n"
     ]
    }
   ],
   "source": [
    "current_users=[\"85\",\"chenyu\",\"Xieyun\",\"yangzhen\",\"bailihongyi\"]\n",
    "copy=[]\n",
    "for current_user in current_users:\n",
    "    copy.append(current_user.lower())\n",
    "new_users=[\"chenyu\",\"XieYun\",\"Yangzhen\",\"qinyuan\",\"linjiayi\"]\n",
    "for new_user in new_users:\n",
    "    if new_user.lower() in current_users or new_user.lower() in copy:\n",
    "        print(f\"{new_user} 此用户名已被使用\")\n",
    "    else:\n",
    "        print(f\"{new_user} 可用\")"
   ]
  },
  {
   "cell_type": "markdown",
   "metadata": {},
   "source": [
    "#### 练习5-11"
   ]
  },
  {
   "cell_type": "code",
   "execution_count": 18,
   "metadata": {},
   "outputs": [
    {
     "name": "stdout",
     "output_type": "stream",
     "text": [
      "1st\n",
      "2nd\n",
      "3rd\n",
      "4th\n",
      "5th\n",
      "6th\n",
      "7th\n",
      "8th\n",
      "9th\n"
     ]
    }
   ],
   "source": [
    "numbers=list(range(1,10))\n",
    "for number in numbers:\n",
    "    if number == 1:\n",
    "        print(\"1st\")\n",
    "    elif number == 2:\n",
    "        print(\"2nd\")\n",
    "    elif number == 3:\n",
    "        print(\"3rd\")\n",
    "    else:\n",
    "        print(f\"{number}th\")"
   ]
  },
  {
   "cell_type": "markdown",
   "metadata": {},
   "source": [
    "#### if语句格式建议\n",
    "运算符两边各加一个空格"
   ]
  },
  {
   "cell_type": "markdown",
   "metadata": {},
   "source": [
    "#### 练习5-13"
   ]
  },
  {
   "cell_type": "markdown",
   "metadata": {},
   "source": [
    "想爬爬王一博的转发量是否真实（是否都是粉丝轮博）"
   ]
  },
  {
   "cell_type": "markdown",
   "metadata": {},
   "source": [
    "## 6.字典"
   ]
  },
  {
   "cell_type": "markdown",
   "metadata": {},
   "source": [
    "储存字典的列表、储存列表的字典、储存字典的字典，能更准确地为真实物体建模"
   ]
  },
  {
   "cell_type": "code",
   "execution_count": 19,
   "metadata": {},
   "outputs": [
    {
     "name": "stdout",
     "output_type": "stream",
     "text": [
      "green\n",
      "5\n"
     ]
    }
   ],
   "source": [
    "alien_0={'color':'green','points':5}\n",
    "print(alien_0['color'])\n",
    "print(alien_0['points'])"
   ]
  },
  {
   "cell_type": "markdown",
   "metadata": {},
   "source": [
    "#### 字典是一系列键值对\n",
    "每个键与一个值相关联"
   ]
  },
  {
   "cell_type": "markdown",
   "metadata": {},
   "source": [
    "与键相关联的值可以是数、字符串、列表、字典（任何东西）"
   ]
  },
  {
   "cell_type": "markdown",
   "metadata": {},
   "source": [
    "字典用放在花括号中的一系列键值对表示"
   ]
  },
  {
   "cell_type": "code",
   "execution_count": 20,
   "metadata": {},
   "outputs": [],
   "source": [
    "alien_0={'color':'green','points':5}"
   ]
  },
  {
   "cell_type": "markdown",
   "metadata": {},
   "source": [
    "键和值之间用冒号分隔，键值对之间用逗号分隔，可以储存无数个键值对"
   ]
  },
  {
   "cell_type": "code",
   "execution_count": 21,
   "metadata": {},
   "outputs": [],
   "source": [
    "alien_0={'color':'green','points':5}"
   ]
  },
  {
   "cell_type": "markdown",
   "metadata": {},
   "source": [
    "#### 访问字典的值，获取与键相关联的值\n",
    "字典名['键名']"
   ]
  },
  {
   "cell_type": "code",
   "execution_count": 22,
   "metadata": {},
   "outputs": [
    {
     "data": {
      "text/plain": [
       "'green'"
      ]
     },
     "execution_count": 22,
     "metadata": {},
     "output_type": "execute_result"
    }
   ],
   "source": [
    "alien_0['color']"
   ]
  },
  {
   "cell_type": "code",
   "execution_count": 23,
   "metadata": {},
   "outputs": [
    {
     "name": "stdout",
     "output_type": "stream",
     "text": [
      "You just earned 5 points\n"
     ]
    }
   ],
   "source": [
    "new_points=alien_0['points']\n",
    "print(f\"You just earned {new_points} points\")"
   ]
  },
  {
   "cell_type": "markdown",
   "metadata": {},
   "source": [
    "#### 添加键值对\n",
    "字典中元素排列顺序与定义时间相同"
   ]
  },
  {
   "cell_type": "code",
   "execution_count": 14,
   "metadata": {},
   "outputs": [
    {
     "name": "stdout",
     "output_type": "stream",
     "text": [
      "{'sanqianwan': ['cxk', 'wyb', 'sizi', '1', '2']}\n",
      "{'sanqianwan': ['cxk', 'wyb', 'sizi', '1', '2'], 'liuqianwan': 'lyf'}\n"
     ]
    }
   ],
   "source": [
    "stars={'sanqianwan':[\"cxk\",\"wyb\",\"sizi\",\"1\",\"2\"]}\n",
    "print(stars)\n",
    "stars['liuqianwan']=\"lyf\"\n",
    "print(stars)"
   ]
  },
  {
   "cell_type": "code",
   "execution_count": 26,
   "metadata": {},
   "outputs": [
    {
     "name": "stdout",
     "output_type": "stream",
     "text": [
      "{'color': 'green', 'points': 5}\n",
      "{'color': 'green', 'points': 5, 'x_position': 0, 'y_position': 25}\n"
     ]
    }
   ],
   "source": [
    "\n",
    "alien_0={'color':'green','points':5}\n",
    "print(alien_0)\n",
    "\n",
    "alien_0['x_position']=0\n",
    "alien_0['y_position']=25\n",
    "print(alien_0)"
   ]
  },
  {
   "cell_type": "markdown",
   "metadata": {},
   "source": [
    "#### 创建空字典\n",
    "花括号就好"
   ]
  },
  {
   "cell_type": "code",
   "execution_count": 31,
   "metadata": {},
   "outputs": [],
   "source": [
    "alien_0={}\n",
    "alien_0['color']='red'\n",
    "alien_0['points']=5"
   ]
  },
  {
   "cell_type": "code",
   "execution_count": 32,
   "metadata": {},
   "outputs": [
    {
     "data": {
      "text/plain": [
       "{'color': 'red', 'points': 5}"
      ]
     },
     "execution_count": 32,
     "metadata": {},
     "output_type": "execute_result"
    }
   ],
   "source": [
    "alien_0"
   ]
  },
  {
   "cell_type": "markdown",
   "metadata": {},
   "source": [
    "#### 修改字典的值"
   ]
  },
  {
   "cell_type": "code",
   "execution_count": 33,
   "metadata": {},
   "outputs": [
    {
     "name": "stdout",
     "output_type": "stream",
     "text": [
      "red\n",
      "green\n"
     ]
    }
   ],
   "source": [
    "alien_0['color']='red'\n",
    "print(f\"{alien_0['color']}\")\n",
    "alien_0['color']='green'\n",
    "print(f\"{alien_0['color']}\")      "
   ]
  },
  {
   "cell_type": "code",
   "execution_count": 36,
   "metadata": {},
   "outputs": [
    {
     "name": "stdout",
     "output_type": "stream",
     "text": [
      "原始位置0\n"
     ]
    }
   ],
   "source": [
    "alien_0={'x_positon':0,'y_position':25,'speed':'fast'}\n",
    "print(f\"原始位置{alien_0['x_positon']}\")"
   ]
  },
  {
   "cell_type": "code",
   "execution_count": 37,
   "metadata": {},
   "outputs": [
    {
     "name": "stdout",
     "output_type": "stream",
     "text": [
      "新位置3\n"
     ]
    }
   ],
   "source": [
    "if alien_0['speed']=='slow':\n",
    "    x_increment=1\n",
    "elif alien_0['speed']=='medium':\n",
    "    x_increment=2\n",
    "else:\n",
    "    x_increment=3\n",
    "alien_0['x_positon']=alien_0['x_positon']+x_increment\n",
    "print(f\"新位置{alien_0['x_positon']}\")"
   ]
  },
  {
   "cell_type": "markdown",
   "metadata": {},
   "source": [
    "#### 删除键值对"
   ]
  },
  {
   "cell_type": "markdown",
   "metadata": {},
   "source": [
    "彻底删除： del 字典名['键名']"
   ]
  },
  {
   "cell_type": "markdown",
   "metadata": {},
   "source": [
    "然后就会删除键及其值"
   ]
  },
  {
   "cell_type": "code",
   "execution_count": 38,
   "metadata": {},
   "outputs": [
    {
     "name": "stdout",
     "output_type": "stream",
     "text": [
      "{'color': 'green', 'points': 5}\n",
      "{'points': 5}\n"
     ]
    }
   ],
   "source": [
    "alien_0={'color':'green','points':5}\n",
    "print(alien_0)\n",
    "del alien_0['color']\n",
    "print(alien_0)"
   ]
  },
  {
   "cell_type": "markdown",
   "metadata": {},
   "source": [
    "一个较大的字典放在多行，每行会自动缩进"
   ]
  },
  {
   "cell_type": "code",
   "execution_count": 40,
   "metadata": {},
   "outputs": [],
   "source": [
    "favorite_languages={\n",
    "    'zyx':'python',\n",
    "    '85':'C',\n",
    "    'ljc':'C艹',\n",
    "}"
   ]
  },
  {
   "cell_type": "code",
   "execution_count": 42,
   "metadata": {},
   "outputs": [
    {
     "name": "stdout",
     "output_type": "stream",
     "text": [
      "85 likes C\n"
     ]
    }
   ],
   "source": [
    "language=favorite_languages['85']\n",
    "print(f\"85 likes {language}\")"
   ]
  },
  {
   "cell_type": "markdown",
   "metadata": {},
   "source": [
    "#### 使用.get()来访问值\n",
    "使用这个方法可以在指定的键不存在时返回默认值"
   ]
  },
  {
   "cell_type": "markdown",
   "metadata": {},
   "source": [
    "#### .get('键名','指定键不存在时要返回的值'#可选#)"
   ]
  },
  {
   "cell_type": "code",
   "execution_count": 46,
   "metadata": {},
   "outputs": [
    {
     "name": "stdout",
     "output_type": "stream",
     "text": [
      "无\n"
     ]
    }
   ],
   "source": [
    "fl=favorite_languages.get('wyb','无')\n",
    "print(fl)"
   ]
  },
  {
   "cell_type": "markdown",
   "metadata": {},
   "source": [
    "#### 练习6-1"
   ]
  },
  {
   "cell_type": "code",
   "execution_count": 49,
   "metadata": {},
   "outputs": [
    {
     "name": "stdout",
     "output_type": "stream",
     "text": [
      "Yibo\n",
      "Wang\n",
      "23\n",
      "LuoYang\n"
     ]
    }
   ],
   "source": [
    "friend={'first_name':'Yibo','last_name':'Wang','age':23,'city':'LuoYang'}\n",
    "print(friend['first_name'])\n",
    "print(friend['last_name'])\n",
    "print(friend['age'])\n",
    "print(friend['city'])"
   ]
  },
  {
   "cell_type": "code",
   "execution_count": 3,
   "metadata": {},
   "outputs": [
    {
     "name": "stdout",
     "output_type": "stream",
     "text": [
      "wyb\n"
     ]
    }
   ],
   "source": [
    "stars={'sanqianwan+':'wyb','liuqianwan+':'lyf'}\n",
    "sanqinwandl=stars.get('sanqianwan+',\"无\")\n",
    "print(sanqinwandl)"
   ]
  },
  {
   "cell_type": "code",
   "execution_count": null,
   "metadata": {},
   "outputs": [],
   "source": []
  }
 ],
 "metadata": {
  "kernelspec": {
   "display_name": "Python 3",
   "language": "python",
   "name": "python3"
  },
  "language_info": {
   "codemirror_mode": {
    "name": "ipython",
    "version": 3
   },
   "file_extension": ".py",
   "mimetype": "text/x-python",
   "name": "python",
   "nbconvert_exporter": "python",
   "pygments_lexer": "ipython3",
   "version": "3.7.4"
  }
 },
 "nbformat": 4,
 "nbformat_minor": 2
}
